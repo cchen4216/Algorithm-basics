{
 "cells": [
  {
   "cell_type": "markdown",
   "metadata": {},
   "source": [
    "## Bubble Sort\n",
    "\n",
    "Bubble sort is used to sort a sequence of numbers.\n",
    "\n",
    "整个排序过程分为很多轮，每轮对 unsorted sublist 进行排序，每轮排完后 sublist 的第一个 element 是最小的，这样每一轮后 unsorted list 长度减一。经过很多轮后直到 unsorted list 长度为 1，排序结束。\n",
    "\n",
    "在每一轮排序中，程序从后向前逐对比较两个 elements，如果前一个元素大于后一个就交换两个元素。这样的检查交换从后向前将 unsorted list 执行完成。"
   ]
  },
  {
   "cell_type": "code",
   "execution_count": 1,
   "metadata": {},
   "outputs": [
    {
     "name": "stdout",
     "output_type": "stream",
     "text": [
      "Unsorted list: [11 84 37 99 71 80 89 68 39 51 57 98 99 18  6 53 70  4 46  4]\n",
      "Sorted list: [ 4  4  6 11 18 37 39 46 51 53 57 68 70 71 80 84 89 98 99 99]\n"
     ]
    }
   ],
   "source": [
    "import numpy as np\n",
    "\n",
    "def bubbleSort(lst):\n",
    "    length = len(lst)\n",
    "    for i in range(length-1):\n",
    "        for j in reversed(range(i, length-1)):\n",
    "            if lst[j] > lst[j+1]:\n",
    "                lst[j], lst[j+1] = lst[j+1], lst[j]\n",
    "\n",
    "lst = np.random.randint(100, size=20)\n",
    "print('Unsorted list:', lst)\n",
    "bubbleSort(lst)\n",
    "print('Sorted list:', lst)"
   ]
  },
  {
   "cell_type": "markdown",
   "metadata": {},
   "source": [
    "## Selection Sort\n",
    "\n",
    "选择排序包含很多轮，每轮从 unsorted sublist 中选出最小的 element, 并与 unsorted sublist 的第一个 element 交换位置，然后 unsorted sublist 的长度减一。unsorted sublist 初始为 entire list，每轮长度减一，直到 unsorted list 长度减小到 1。"
   ]
  },
  {
   "cell_type": "code",
   "execution_count": 2,
   "metadata": {},
   "outputs": [
    {
     "name": "stdout",
     "output_type": "stream",
     "text": [
      "Unsorted list: [86 49 91 64 81 99 65 24 60 16 50 81 17  8 40 92 30 27 24 69]\n",
      "Sorted list: [ 8 16 17 24 24 27 30 40 49 50 60 64 65 69 81 81 86 91 92 99]\n"
     ]
    }
   ],
   "source": [
    "import numpy as np\n",
    "\n",
    "def selectionSort(lst):\n",
    "    length = len(lst)\n",
    "    for i in range(length-1):\n",
    "        minIndex = i\n",
    "        for j in range(i+1, length):\n",
    "            if lst[j] < lst[minIndex]:\n",
    "                minIndex = j\n",
    "        if minIndex != i:\n",
    "            lst[i], lst[minIndex] = lst[minIndex], lst[i]\n",
    "\n",
    "lst = np.random.randint(100, size=20)\n",
    "print('Unsorted list:', lst)\n",
    "selectionSort(lst)\n",
    "print('Sorted list:', lst)"
   ]
  },
  {
   "cell_type": "markdown",
   "metadata": {},
   "source": [
    "## Insertion Sort\n",
    "\n",
    "有一个 sorted sublist，sorted sublist 初始时包含第一个元素，然后将后续 unsorted list 中的元素逐个地插入到前面的 sorted sublist 中，并保持 sorted sublist sorted。"
   ]
  },
  {
   "cell_type": "code",
   "execution_count": 3,
   "metadata": {},
   "outputs": [
    {
     "name": "stdout",
     "output_type": "stream",
     "text": [
      "unsorted list: [ 9 81 88 26 59 90 62 13 49 88 70 41 40 69 68 26 69 69 82 74]\n",
      "Sorted list: [ 9 13 26 26 40 41 49 59 62 68 69 69 69 70 74 81 82 88 88 90]\n"
     ]
    }
   ],
   "source": [
    "import numpy as np\n",
    "\n",
    "def insertionSort(lst):\n",
    "    length = len(lst)\n",
    "    if length==1:\n",
    "        return lst\n",
    "    for i in range(1,length):\n",
    "        tmp = lst[i]\n",
    "        for j in reversed(range(i)):\n",
    "            if lst[j]>tmp:\n",
    "                lst[j+1] = lst[j]\n",
    "                if j==0:\n",
    "                    lst[j] = tmp\n",
    "            else:\n",
    "                lst[j+1] = tmp\n",
    "                break\n",
    "\n",
    "lst = np.random.randint(100, size=20)\n",
    "print('unsorted list:', lst)\n",
    "insertionSort(lst)\n",
    "print('Sorted list:', lst)"
   ]
  },
  {
   "cell_type": "markdown",
   "metadata": {},
   "source": [
    "## Heap Sort\n",
    "- 基本概念\n",
    "Heapsort can be thought of as an improved selection sort: it divides its input into a sorted and an unsorted region, and it iteratively shrinks the unsorted region by extracting the largest element and moving that to the sorted region. The improvement consists of the use of a **heap data structure** rather than a linear-time search to find the maximum.\n",
    "\n",
    "- 基本步骤，主要分为两步\n",
    "    - a heap is built out of the data.\n",
    "    - a sorted array is created by repeatedly removing the largest element from the heap (the root of the heap), and inserting it into the array. The heap is updated after each removal to maintain the heap property."
   ]
  },
  {
   "cell_type": "code",
   "execution_count": null,
   "metadata": {},
   "outputs": [],
   "source": []
  }
 ],
 "metadata": {
  "kernelspec": {
   "display_name": "Python 3",
   "language": "python",
   "name": "python3"
  },
  "language_info": {
   "codemirror_mode": {
    "name": "ipython",
    "version": 3
   },
   "file_extension": ".py",
   "mimetype": "text/x-python",
   "name": "python",
   "nbconvert_exporter": "python",
   "pygments_lexer": "ipython3",
   "version": "3.6.5"
  }
 },
 "nbformat": 4,
 "nbformat_minor": 2
}
