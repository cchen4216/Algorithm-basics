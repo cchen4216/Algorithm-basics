{
 "cells": [
  {
   "cell_type": "markdown",
   "metadata": {},
   "source": [
    "## Bubble Sort\n",
    "\n",
    "Bubble sort is used to sort a sequence of numbers.\n",
    "\n",
    "整个排序过程分为很多轮，每轮对 unsorted sublist 进行排序，每轮排完后 sublist 的第一个 element 是最小的，这样每一轮后 unsorted list 长度减一。经过很多轮后直到 unsorted list 长度为 1，排序结束。\n",
    "\n",
    "在每一轮排序中，程序从后向前逐对比较两个 elements，如果前一个元素大于后一个就交换两个元素。这样的检查交换从后向前将 unsorted list 执行完成。"
   ]
  },
  {
   "cell_type": "code",
   "execution_count": 10,
   "metadata": {},
   "outputs": [
    {
     "name": "stdout",
     "output_type": "stream",
     "text": [
      "Unsorted list: [85  5 11 11 91 48 75 80 68 18 81 66  7 43 95 83 45 64 10 94]\n",
      "Sorted list: [ 5  7 10 11 11 18 43 45 48 64 66 68 75 80 81 83 85 91 94 95]\n"
     ]
    }
   ],
   "source": [
    "import numpy as np\n",
    "\n",
    "def bubbleSort(lst):\n",
    "    length = len(lst)\n",
    "    for i in range(length-1):\n",
    "        for j in reversed(range(i, length-1)):\n",
    "            if lst[j] > lst[j+1]:\n",
    "                lst[j], lst[j+1] = lst[j+1], lst[j]\n",
    "\n",
    "lst = np.random.randint(100, size=20)\n",
    "print('Unsorted list:', lst)\n",
    "bubbleSort(lst)\n",
    "print('Sorted list:', lst)"
   ]
  },
  {
   "cell_type": "markdown",
   "metadata": {},
   "source": [
    "## Selection Sort\n",
    "\n",
    "选择排序包含很多轮，每轮从 unsorted sublist 中选出最小的 element, 并与 unsorted sublist 的第一个 element 交换位置，然后 unsorted sublist 的长度减一。unsorted sublist 初始为 entire list，每轮长度减一，直到 unsorted list 长度减小到 1。"
   ]
  },
  {
   "cell_type": "code",
   "execution_count": 11,
   "metadata": {},
   "outputs": [
    {
     "name": "stdout",
     "output_type": "stream",
     "text": [
      "Unsorted list: [71 77 76 82 98 57 43 84 71 29 59 33 98 73 87 62 42 43 86 66]\n",
      "Sorted list: [29 33 42 43 43 57 59 62 66 71 71 73 76 77 82 84 86 87 98 98]\n"
     ]
    }
   ],
   "source": [
    "import numpy as np\n",
    "\n",
    "def selectionSort(lst):\n",
    "    length = len(lst)\n",
    "    for i in range(length-1):\n",
    "        minIndex = i\n",
    "        for j in range(i+1, length):\n",
    "            if lst[j] < lst[minIndex]:\n",
    "                minIndex = j\n",
    "        if minIndex != i:\n",
    "            lst[i], lst[minIndex] = lst[minIndex], lst[i]\n",
    "\n",
    "lst = np.random.randint(100, size=20)\n",
    "print('Unsorted list:', lst)\n",
    "selectionSort(lst)\n",
    "print('Sorted list:', lst)"
   ]
  },
  {
   "cell_type": "code",
   "execution_count": null,
   "metadata": {},
   "outputs": [],
   "source": []
  }
 ],
 "metadata": {
  "kernelspec": {
   "display_name": "Python 3",
   "language": "python",
   "name": "python3"
  },
  "language_info": {
   "codemirror_mode": {
    "name": "ipython",
    "version": 3
   },
   "file_extension": ".py",
   "mimetype": "text/x-python",
   "name": "python",
   "nbconvert_exporter": "python",
   "pygments_lexer": "ipython3",
   "version": "3.6.4"
  }
 },
 "nbformat": 4,
 "nbformat_minor": 2
}
